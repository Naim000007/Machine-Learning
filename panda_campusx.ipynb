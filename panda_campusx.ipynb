{
 "cells": [
  {
   "cell_type": "code",
   "execution_count": 1,
   "id": "556b6f77-085b-49b3-9ef3-d5787ebc6406",
   "metadata": {},
   "outputs": [],
   "source": [
    "import pandas as pd \n",
    "import numpy as np\n"
   ]
  },
  {
   "cell_type": "code",
   "execution_count": 9,
   "id": "72b04cf1-ca06-49de-8485-bac800d65047",
   "metadata": {},
   "outputs": [
    {
     "data": {
      "text/plain": [
       "0    Ban\n",
       "1    Ind\n",
       "2    Pak\n",
       "3    Aus\n",
       "4    Ger\n",
       "dtype: object"
      ]
     },
     "execution_count": 9,
     "metadata": {},
     "output_type": "execute_result"
    }
   ],
   "source": [
    "#string \n",
    "Country = [\"Ban\", \"Ind\", \"Pak\", \"Aus\", \"Ger\" ]\n",
    "pd.Series(Country)"
   ]
  },
  {
   "cell_type": "code",
   "execution_count": 10,
   "id": "30792bf2-55c8-4749-8dee-1320139bcd6f",
   "metadata": {},
   "outputs": [
    {
     "data": {
      "text/plain": [
       "Math       67\n",
       "English    57\n",
       "Science    78\n",
       "Bangla     89\n",
       "dtype: int64"
      ]
     },
     "execution_count": 10,
     "metadata": {},
     "output_type": "execute_result"
    }
   ],
   "source": [
    "#custom index\n",
    "marks = [67, 57, 78,89]\n",
    "subjects = [\"Math\", \"English\", \"Science\", \"Bangla\"]\n",
    "pd.Series(marks, index=subjects)"
   ]
  },
  {
   "cell_type": "code",
   "execution_count": 13,
   "id": "3201de8d-549a-4e1b-9545-21ad45fd3ebd",
   "metadata": {},
   "outputs": [
    {
     "data": {
      "text/plain": [
       "Math       67\n",
       "English    57\n",
       "Science    78\n",
       "Bangla     89\n",
       "Name: Naim Sheikh, dtype: int64"
      ]
     },
     "execution_count": 13,
     "metadata": {},
     "output_type": "execute_result"
    }
   ],
   "source": [
    "#setting a name \n",
    "marks = pd.Series(marks , index=subjects, name = \"Naim Sheikh\")\n",
    "marks"
   ]
  },
  {
   "cell_type": "code",
   "execution_count": 31,
   "id": "f7aacf3e-e643-4fda-9f6f-0bea75b16928",
   "metadata": {},
   "outputs": [],
   "source": [
    "\n",
    "movie = pd.read_csv(\"dataset/bollywood.csv\", index_col='movie')\n"
   ]
  },
  {
   "cell_type": "code",
   "execution_count": 32,
   "id": "d97446ed-ae1b-4473-861d-0a21454005ae",
   "metadata": {},
   "outputs": [
    {
     "data": {
      "text/html": [
       "<div>\n",
       "<style scoped>\n",
       "    .dataframe tbody tr th:only-of-type {\n",
       "        vertical-align: middle;\n",
       "    }\n",
       "\n",
       "    .dataframe tbody tr th {\n",
       "        vertical-align: top;\n",
       "    }\n",
       "\n",
       "    .dataframe thead th {\n",
       "        text-align: right;\n",
       "    }\n",
       "</style>\n",
       "<table border=\"1\" class=\"dataframe\">\n",
       "  <thead>\n",
       "    <tr style=\"text-align: right;\">\n",
       "      <th></th>\n",
       "      <th>lead</th>\n",
       "    </tr>\n",
       "    <tr>\n",
       "      <th>movie</th>\n",
       "      <th></th>\n",
       "    </tr>\n",
       "  </thead>\n",
       "  <tbody>\n",
       "    <tr>\n",
       "      <th>Baabarr</th>\n",
       "      <td>Mithun Chakraborty</td>\n",
       "    </tr>\n",
       "    <tr>\n",
       "      <th>Manjunath (film)</th>\n",
       "      <td>Anjori Alagh</td>\n",
       "    </tr>\n",
       "    <tr>\n",
       "      <th>Dehraadun Diary</th>\n",
       "      <td>Adhyayan Suman</td>\n",
       "    </tr>\n",
       "    <tr>\n",
       "      <th>Chor Chor Super Chor</th>\n",
       "      <td>Deepak Dobriyal</td>\n",
       "    </tr>\n",
       "    <tr>\n",
       "      <th>Bluffmaster!</th>\n",
       "      <td>Abhishek Bachchan</td>\n",
       "    </tr>\n",
       "  </tbody>\n",
       "</table>\n",
       "</div>"
      ],
      "text/plain": [
       "                                    lead\n",
       "movie                                   \n",
       "Baabarr               Mithun Chakraborty\n",
       "Manjunath (film)            Anjori Alagh\n",
       "Dehraadun Diary           Adhyayan Suman\n",
       "Chor Chor Super Chor     Deepak Dobriyal\n",
       "Bluffmaster!           Abhishek Bachchan"
      ]
     },
     "execution_count": 32,
     "metadata": {},
     "output_type": "execute_result"
    }
   ],
   "source": [
    "#sample\n",
    "movie.sample(5)"
   ]
  },
  {
   "cell_type": "code",
   "execution_count": 21,
   "id": "ec138408-438f-4b2d-a55e-301f169b98bc",
   "metadata": {},
   "outputs": [
    {
     "data": {
      "text/html": [
       "<div>\n",
       "<style scoped>\n",
       "    .dataframe tbody tr th:only-of-type {\n",
       "        vertical-align: middle;\n",
       "    }\n",
       "\n",
       "    .dataframe tbody tr th {\n",
       "        vertical-align: top;\n",
       "    }\n",
       "\n",
       "    .dataframe thead th {\n",
       "        text-align: right;\n",
       "    }\n",
       "</style>\n",
       "<table border=\"1\" class=\"dataframe\">\n",
       "  <thead>\n",
       "    <tr style=\"text-align: right;\">\n",
       "      <th></th>\n",
       "      <th>movie</th>\n",
       "      <th>lead</th>\n",
       "    </tr>\n",
       "  </thead>\n",
       "  <tbody>\n",
       "    <tr>\n",
       "      <th>0</th>\n",
       "      <td>Uri: The Surgical Strike</td>\n",
       "      <td>Vicky Kaushal</td>\n",
       "    </tr>\n",
       "    <tr>\n",
       "      <th>1</th>\n",
       "      <td>Battalion 609</td>\n",
       "      <td>Vicky Ahuja</td>\n",
       "    </tr>\n",
       "    <tr>\n",
       "      <th>2</th>\n",
       "      <td>The Accidental Prime Minister (film)</td>\n",
       "      <td>Anupam Kher</td>\n",
       "    </tr>\n",
       "    <tr>\n",
       "      <th>3</th>\n",
       "      <td>Why Cheat India</td>\n",
       "      <td>Emraan Hashmi</td>\n",
       "    </tr>\n",
       "    <tr>\n",
       "      <th>4</th>\n",
       "      <td>Evening Shadows</td>\n",
       "      <td>Mona Ambegaonkar</td>\n",
       "    </tr>\n",
       "  </tbody>\n",
       "</table>\n",
       "</div>"
      ],
      "text/plain": [
       "                                  movie              lead\n",
       "0              Uri: The Surgical Strike     Vicky Kaushal\n",
       "1                         Battalion 609       Vicky Ahuja\n",
       "2  The Accidental Prime Minister (film)       Anupam Kher\n",
       "3                       Why Cheat India     Emraan Hashmi\n",
       "4                       Evening Shadows  Mona Ambegaonkar"
      ]
     },
     "execution_count": 21,
     "metadata": {},
     "output_type": "execute_result"
    }
   ],
   "source": [
    "movie.head()"
   ]
  },
  {
   "cell_type": "code",
   "execution_count": 22,
   "id": "40a8cf36-c55f-40dd-9f11-df57168702ec",
   "metadata": {},
   "outputs": [
    {
     "data": {
      "text/html": [
       "<div>\n",
       "<style scoped>\n",
       "    .dataframe tbody tr th:only-of-type {\n",
       "        vertical-align: middle;\n",
       "    }\n",
       "\n",
       "    .dataframe tbody tr th {\n",
       "        vertical-align: top;\n",
       "    }\n",
       "\n",
       "    .dataframe thead th {\n",
       "        text-align: right;\n",
       "    }\n",
       "</style>\n",
       "<table border=\"1\" class=\"dataframe\">\n",
       "  <thead>\n",
       "    <tr style=\"text-align: right;\">\n",
       "      <th></th>\n",
       "      <th>movie</th>\n",
       "      <th>lead</th>\n",
       "    </tr>\n",
       "  </thead>\n",
       "  <tbody>\n",
       "    <tr>\n",
       "      <th>1495</th>\n",
       "      <td>Hum Tumhare Hain Sanam</td>\n",
       "      <td>Shah Rukh Khan</td>\n",
       "    </tr>\n",
       "    <tr>\n",
       "      <th>1496</th>\n",
       "      <td>Aankhen (2002 film)</td>\n",
       "      <td>Amitabh Bachchan</td>\n",
       "    </tr>\n",
       "    <tr>\n",
       "      <th>1497</th>\n",
       "      <td>Saathiya (film)</td>\n",
       "      <td>Vivek Oberoi</td>\n",
       "    </tr>\n",
       "    <tr>\n",
       "      <th>1498</th>\n",
       "      <td>Company (film)</td>\n",
       "      <td>Ajay Devgn</td>\n",
       "    </tr>\n",
       "    <tr>\n",
       "      <th>1499</th>\n",
       "      <td>Awara Paagal Deewana</td>\n",
       "      <td>Akshay Kumar</td>\n",
       "    </tr>\n",
       "  </tbody>\n",
       "</table>\n",
       "</div>"
      ],
      "text/plain": [
       "                       movie              lead\n",
       "1495  Hum Tumhare Hain Sanam    Shah Rukh Khan\n",
       "1496     Aankhen (2002 film)  Amitabh Bachchan\n",
       "1497         Saathiya (film)      Vivek Oberoi\n",
       "1498          Company (film)        Ajay Devgn\n",
       "1499    Awara Paagal Deewana      Akshay Kumar"
      ]
     },
     "execution_count": 22,
     "metadata": {},
     "output_type": "execute_result"
    }
   ],
   "source": [
    "movie.tail()"
   ]
  },
  {
   "cell_type": "code",
   "execution_count": 33,
   "id": "2485a1bc-55d0-426f-bb67-27d7b94369cd",
   "metadata": {},
   "outputs": [
    {
     "data": {
      "text/plain": [
       "lead            \n",
       "Akshay Kumar        48\n",
       "Amitabh Bachchan    45\n",
       "Ajay Devgn          38\n",
       "Salman Khan         31\n",
       "Sanjay Dutt         26\n",
       "                    ..\n",
       "Kashmira Shah        1\n",
       "Kartik Elangovan     1\n",
       "Karisma Kapoor       1\n",
       "Karan Sharma         1\n",
       "Zulfi Sayed          1\n",
       "Name: count, Length: 566, dtype: int64"
      ]
     },
     "execution_count": 33,
     "metadata": {},
     "output_type": "execute_result"
    }
   ],
   "source": [
    "#value_counts -> movie \n",
    "movie.value_counts()"
   ]
  },
  {
   "cell_type": "code",
   "execution_count": 34,
   "id": "89a579ef-6b14-4245-89fd-fb70befe572e",
   "metadata": {},
   "outputs": [
    {
     "data": {
      "text/html": [
       "<div>\n",
       "<style scoped>\n",
       "    .dataframe tbody tr th:only-of-type {\n",
       "        vertical-align: middle;\n",
       "    }\n",
       "\n",
       "    .dataframe tbody tr th {\n",
       "        vertical-align: top;\n",
       "    }\n",
       "\n",
       "    .dataframe thead th {\n",
       "        text-align: right;\n",
       "    }\n",
       "</style>\n",
       "<table border=\"1\" class=\"dataframe\">\n",
       "  <thead>\n",
       "    <tr style=\"text-align: right;\">\n",
       "      <th></th>\n",
       "      <th>runs</th>\n",
       "    </tr>\n",
       "    <tr>\n",
       "      <th>match_no</th>\n",
       "      <th></th>\n",
       "    </tr>\n",
       "  </thead>\n",
       "  <tbody>\n",
       "    <tr>\n",
       "      <th>1</th>\n",
       "      <td>1</td>\n",
       "    </tr>\n",
       "    <tr>\n",
       "      <th>2</th>\n",
       "      <td>23</td>\n",
       "    </tr>\n",
       "    <tr>\n",
       "      <th>3</th>\n",
       "      <td>13</td>\n",
       "    </tr>\n",
       "    <tr>\n",
       "      <th>4</th>\n",
       "      <td>12</td>\n",
       "    </tr>\n",
       "    <tr>\n",
       "      <th>5</th>\n",
       "      <td>1</td>\n",
       "    </tr>\n",
       "    <tr>\n",
       "      <th>...</th>\n",
       "      <td>...</td>\n",
       "    </tr>\n",
       "    <tr>\n",
       "      <th>211</th>\n",
       "      <td>0</td>\n",
       "    </tr>\n",
       "    <tr>\n",
       "      <th>212</th>\n",
       "      <td>20</td>\n",
       "    </tr>\n",
       "    <tr>\n",
       "      <th>213</th>\n",
       "      <td>73</td>\n",
       "    </tr>\n",
       "    <tr>\n",
       "      <th>214</th>\n",
       "      <td>25</td>\n",
       "    </tr>\n",
       "    <tr>\n",
       "      <th>215</th>\n",
       "      <td>7</td>\n",
       "    </tr>\n",
       "  </tbody>\n",
       "</table>\n",
       "<p>215 rows × 1 columns</p>\n",
       "</div>"
      ],
      "text/plain": [
       "          runs\n",
       "match_no      \n",
       "1            1\n",
       "2           23\n",
       "3           13\n",
       "4           12\n",
       "5            1\n",
       "...        ...\n",
       "211          0\n",
       "212         20\n",
       "213         73\n",
       "214         25\n",
       "215          7\n",
       "\n",
       "[215 rows x 1 columns]"
      ]
     },
     "execution_count": 34,
     "metadata": {},
     "output_type": "execute_result"
    }
   ],
   "source": [
    "vk = pd.read_csv('dataset/kohli_ipl.csv',index_col='match_no')"
   ]
  },
  {
   "cell_type": "code",
   "execution_count": 44,
   "id": "2ccf66fc-081a-41bd-ba4c-6fc242c0e345",
   "metadata": {},
   "outputs": [
    {
     "data": {
      "text/plain": [
       "array([113], dtype=int64)"
      ]
     },
     "execution_count": 44,
     "metadata": {},
     "output_type": "execute_result"
    }
   ],
   "source": [
    "sorted_vk = vk.sort_values(by='runs', ascending=False).head().values[0]\n",
    "sorted_vk"
   ]
  },
  {
   "cell_type": "code",
   "execution_count": 46,
   "id": "5a65e7f8-9c5d-4b49-8f07-b9d8ce7eca7c",
   "metadata": {},
   "outputs": [
    {
     "data": {
      "text/html": [
       "<div>\n",
       "<style scoped>\n",
       "    .dataframe tbody tr th:only-of-type {\n",
       "        vertical-align: middle;\n",
       "    }\n",
       "\n",
       "    .dataframe tbody tr th {\n",
       "        vertical-align: top;\n",
       "    }\n",
       "\n",
       "    .dataframe thead th {\n",
       "        text-align: right;\n",
       "    }\n",
       "</style>\n",
       "<table border=\"1\" class=\"dataframe\">\n",
       "  <thead>\n",
       "    <tr style=\"text-align: right;\">\n",
       "      <th></th>\n",
       "      <th>lead</th>\n",
       "    </tr>\n",
       "    <tr>\n",
       "      <th>movie</th>\n",
       "      <th></th>\n",
       "    </tr>\n",
       "  </thead>\n",
       "  <tbody>\n",
       "    <tr>\n",
       "      <th>1920 (film)</th>\n",
       "      <td>Rajniesh Duggall</td>\n",
       "    </tr>\n",
       "    <tr>\n",
       "      <th>1920: London</th>\n",
       "      <td>Sharman Joshi</td>\n",
       "    </tr>\n",
       "    <tr>\n",
       "      <th>1920: The Evil Returns</th>\n",
       "      <td>Vicky Ahuja</td>\n",
       "    </tr>\n",
       "    <tr>\n",
       "      <th>1971 (2007 film)</th>\n",
       "      <td>Manoj Bajpayee</td>\n",
       "    </tr>\n",
       "    <tr>\n",
       "      <th>2 States (2014 film)</th>\n",
       "      <td>Arjun Kapoor</td>\n",
       "    </tr>\n",
       "    <tr>\n",
       "      <th>...</th>\n",
       "      <td>...</td>\n",
       "    </tr>\n",
       "    <tr>\n",
       "      <th>Zindagi 50-50</th>\n",
       "      <td>Veena Malik</td>\n",
       "    </tr>\n",
       "    <tr>\n",
       "      <th>Zindagi Na Milegi Dobara</th>\n",
       "      <td>Hrithik Roshan</td>\n",
       "    </tr>\n",
       "    <tr>\n",
       "      <th>Zindagi Tere Naam</th>\n",
       "      <td>Mithun Chakraborty</td>\n",
       "    </tr>\n",
       "    <tr>\n",
       "      <th>Zokkomon</th>\n",
       "      <td>Darsheel Safary</td>\n",
       "    </tr>\n",
       "    <tr>\n",
       "      <th>Zor Lagaa Ke...Haiya!</th>\n",
       "      <td>Meghan Jadhav</td>\n",
       "    </tr>\n",
       "  </tbody>\n",
       "</table>\n",
       "<p>1500 rows × 1 columns</p>\n",
       "</div>"
      ],
      "text/plain": [
       "                                        lead\n",
       "movie                                       \n",
       "1920 (film)                 Rajniesh Duggall\n",
       "1920: London                   Sharman Joshi\n",
       "1920: The Evil Returns           Vicky Ahuja\n",
       "1971 (2007 film)              Manoj Bajpayee\n",
       "2 States (2014 film)            Arjun Kapoor\n",
       "...                                      ...\n",
       "Zindagi 50-50                    Veena Malik\n",
       "Zindagi Na Milegi Dobara      Hrithik Roshan\n",
       "Zindagi Tere Naam         Mithun Chakraborty\n",
       "Zokkomon                     Darsheel Safary\n",
       "Zor Lagaa Ke...Haiya!          Meghan Jadhav\n",
       "\n",
       "[1500 rows x 1 columns]"
      ]
     },
     "execution_count": 46,
     "metadata": {},
     "output_type": "execute_result"
    }
   ],
   "source": [
    "#short_index -> inplace -> movies\n",
    "movie.sort_index()"
   ]
  },
  {
   "cell_type": "code",
   "execution_count": 47,
   "id": "eae0f379-8986-4ba8-b630-c6e8ea575051",
   "metadata": {},
   "outputs": [
    {
     "data": {
      "text/plain": [
       "runs    215\n",
       "dtype: int64"
      ]
     },
     "execution_count": 47,
     "metadata": {},
     "output_type": "execute_result"
    }
   ],
   "source": [
    "#count \n",
    "vk.count()"
   ]
  },
  {
   "cell_type": "code",
   "execution_count": 49,
   "id": "1a3bfd76-9cde-411c-a019-007efaadea75",
   "metadata": {},
   "outputs": [
    {
     "data": {
      "text/plain": [
       "215"
      ]
     },
     "execution_count": 49,
     "metadata": {},
     "output_type": "execute_result"
    }
   ],
   "source": [
    "vk.size"
   ]
  },
  {
   "cell_type": "code",
   "execution_count": 50,
   "id": "5ceec810-5dc6-42df-8f79-47c28a75997a",
   "metadata": {},
   "outputs": [
    {
     "data": {
      "text/plain": [
       "runs    6634\n",
       "dtype: int64"
      ]
     },
     "execution_count": 50,
     "metadata": {},
     "output_type": "execute_result"
    }
   ],
   "source": [
    "# sum -> Product\n",
    "vk.sum()"
   ]
  },
  {
   "cell_type": "code",
   "execution_count": 55,
   "id": "fb07d70b-3963-47ed-b047-360a90cb5aeb",
   "metadata": {},
   "outputs": [],
   "source": [
    "subs = pd.read_csv('dataset/subs.csv')\n"
   ]
  },
  {
   "cell_type": "code",
   "execution_count": 60,
   "id": "e7d67457-90a8-48b3-946d-29d06951e6f7",
   "metadata": {},
   "outputs": [
    {
     "name": "stdout",
     "output_type": "stream",
     "text": [
      "runs    24.0\n",
      "dtype: float64\n",
      "           lead\n",
      "0  Akshay Kumar\n",
      "Subscribers gained    62.675023\n",
      "dtype: float64\n",
      "runs    688.002478\n",
      "dtype: float64\n"
     ]
    }
   ],
   "source": [
    "#mean -> median -> mode -> std - > var \n",
    "subs.mean()\n",
    "print(vk.median())\n",
    "print(movie.mode())\n",
    "print(subs.std())\n",
    "print(vk.var())"
   ]
  },
  {
   "cell_type": "code",
   "execution_count": 61,
   "id": "2e393cbf-1a3d-4295-afc5-a2b8c6fb9807",
   "metadata": {},
   "outputs": [
    {
     "data": {
      "text/html": [
       "<div>\n",
       "<style scoped>\n",
       "    .dataframe tbody tr th:only-of-type {\n",
       "        vertical-align: middle;\n",
       "    }\n",
       "\n",
       "    .dataframe tbody tr th {\n",
       "        vertical-align: top;\n",
       "    }\n",
       "\n",
       "    .dataframe thead th {\n",
       "        text-align: right;\n",
       "    }\n",
       "</style>\n",
       "<table border=\"1\" class=\"dataframe\">\n",
       "  <thead>\n",
       "    <tr style=\"text-align: right;\">\n",
       "      <th></th>\n",
       "      <th>runs</th>\n",
       "    </tr>\n",
       "  </thead>\n",
       "  <tbody>\n",
       "    <tr>\n",
       "      <th>count</th>\n",
       "      <td>215.000000</td>\n",
       "    </tr>\n",
       "    <tr>\n",
       "      <th>mean</th>\n",
       "      <td>30.855814</td>\n",
       "    </tr>\n",
       "    <tr>\n",
       "      <th>std</th>\n",
       "      <td>26.229801</td>\n",
       "    </tr>\n",
       "    <tr>\n",
       "      <th>min</th>\n",
       "      <td>0.000000</td>\n",
       "    </tr>\n",
       "    <tr>\n",
       "      <th>25%</th>\n",
       "      <td>9.000000</td>\n",
       "    </tr>\n",
       "    <tr>\n",
       "      <th>50%</th>\n",
       "      <td>24.000000</td>\n",
       "    </tr>\n",
       "    <tr>\n",
       "      <th>75%</th>\n",
       "      <td>48.000000</td>\n",
       "    </tr>\n",
       "    <tr>\n",
       "      <th>max</th>\n",
       "      <td>113.000000</td>\n",
       "    </tr>\n",
       "  </tbody>\n",
       "</table>\n",
       "</div>"
      ],
      "text/plain": [
       "             runs\n",
       "count  215.000000\n",
       "mean    30.855814\n",
       "std     26.229801\n",
       "min      0.000000\n",
       "25%      9.000000\n",
       "50%     24.000000\n",
       "75%     48.000000\n",
       "max    113.000000"
      ]
     },
     "execution_count": 61,
     "metadata": {},
     "output_type": "execute_result"
    }
   ],
   "source": [
    "vk.describe()"
   ]
  },
  {
   "cell_type": "code",
   "execution_count": null,
   "id": "b591ec7e-371a-42c4-9264-1c897799e3f2",
   "metadata": {},
   "outputs": [],
   "source": []
  }
 ],
 "metadata": {
  "kernelspec": {
   "display_name": "Python 3 (ipykernel)",
   "language": "python",
   "name": "python3"
  },
  "language_info": {
   "codemirror_mode": {
    "name": "ipython",
    "version": 3
   },
   "file_extension": ".py",
   "mimetype": "text/x-python",
   "name": "python",
   "nbconvert_exporter": "python",
   "pygments_lexer": "ipython3",
   "version": "3.11.7"
  }
 },
 "nbformat": 4,
 "nbformat_minor": 5
}
